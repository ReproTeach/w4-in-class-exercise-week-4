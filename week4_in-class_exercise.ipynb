{
 "cells": [
  {
   "cell_type": "markdown",
   "id": "2b895416-2c33-4d92-8a26-245decd4564d",
   "metadata": {},
   "source": [
    "# Week 4 Exercise (group)\n",
    "\n",
    "- member name1\n",
    "- member name2\n",
    "- member name3\n",
    "- ..."
   ]
  },
  {
   "cell_type": "markdown",
   "id": "1c70ffd1-5dd6-4506-a8a9-ef540f4370a5",
   "metadata": {},
   "source": [
    "## 1. Read the data (from week3 exercise)\n",
    "\n",
    "The dataset, same as week3, is attached in this repository."
   ]
  },
  {
   "cell_type": "code",
   "execution_count": null,
   "id": "f61b2b38-5ebf-4d0e-a4bb-55c9fb65a30a",
   "metadata": {},
   "outputs": [],
   "source": [
    "# write your code here, you can add more cells if needed"
   ]
  },
  {
   "cell_type": "markdown",
   "id": "d9121187-bd25-4818-bd8f-a028f109bb23",
   "metadata": {
    "tags": []
   },
   "source": [
    "## 2. Preprocess the data (from week3 exercise)\n",
    "\n",
    "1. Rename all columns\n",
    "2. Drop nan\n",
    "3. Drop duplicates"
   ]
  },
  {
   "cell_type": "code",
   "execution_count": null,
   "id": "ead42770-4b13-4b25-af03-78889d422e89",
   "metadata": {},
   "outputs": [],
   "source": [
    "# write your code here, you can add more cells if needed"
   ]
  },
  {
   "cell_type": "markdown",
   "id": "5f60dbcf-765d-49c2-97b5-60f09c817be0",
   "metadata": {
    "tags": []
   },
   "source": [
    "## 3. Data Visualization\n",
    "\n",
    "After data cleaning, use different (renamed) columns to generate:\n",
    "1. Line plot\n",
    "2. Scatter plot\n",
    "3. Any other types of plot (e.g., you can make a subset of the dataframe by selecting some columns and create a heatmap)\n",
    "4. Add titles, labels, and/or legends to your plots if needed.\n",
    "5. Make your plots pretty by customize the color and style.\n",
    "\n",
    "Use [Tuesday's](https://github.com/yibeichan/COMM160DS/blob/main/week_4/lecture_part1.ipynb) and [Thursday's](https://github.com/yibeichan/COMM160DS/blob/main/week_4/lecture_part2.ipynb) lectures to help choose, create, and customize plots"
   ]
  },
  {
   "cell_type": "markdown",
   "id": "8667ca8e-51ba-4e49-8c7a-70b2a25a591d",
   "metadata": {},
   "source": [
    "### Line Plot"
   ]
  },
  {
   "cell_type": "code",
   "execution_count": null,
   "id": "2a5a3413-9c79-47ec-93a7-9229229d3b9b",
   "metadata": {},
   "outputs": [],
   "source": [
    "# write your code here, you can add more cells if needed"
   ]
  },
  {
   "cell_type": "markdown",
   "id": "21808d6f-ea83-4ef6-8ce9-8f804d7265e4",
   "metadata": {},
   "source": [
    "### Scatter Plot "
   ]
  },
  {
   "cell_type": "code",
   "execution_count": null,
   "id": "e9493d11-467f-4717-af11-c40cbeb4fc1e",
   "metadata": {},
   "outputs": [],
   "source": [
    "# write your code here, you can add more cells if needed"
   ]
  },
  {
   "cell_type": "markdown",
   "id": "202478ca-05c6-4ac3-9747-6723e433ba15",
   "metadata": {},
   "source": [
    "###  The Third Plot (Change the title to your chosen plot)"
   ]
  },
  {
   "cell_type": "code",
   "execution_count": null,
   "id": "f69a51f6-3dd6-4132-96f1-6b3ba2f595d9",
   "metadata": {},
   "outputs": [],
   "source": [
    "# write your code here, you can add more cells if needed"
   ]
  },
  {
   "cell_type": "markdown",
   "id": "5bfec07d-a238-4bba-8bc8-aa6af1de815e",
   "metadata": {},
   "source": [
    "## 4. Data Interpretation \n",
    "\n",
    "For each plot, write 1-2 sentences to describe key findings. \n",
    "\n",
    "Write in a Markdown cell"
   ]
  },
  {
   "cell_type": "markdown",
   "id": "dff0dacd-dfad-459d-b4b4-14d4fde80ebf",
   "metadata": {},
   "source": [
    "## 5. Push Your Results to GitHub\n",
    "\n",
    "As you did in previous weeks:\n",
    "1. `git status`\n",
    "2. `git add`\n",
    "3. `git commit -m \"type your message here\"`\n",
    "4. `git push`"
   ]
  },
  {
   "cell_type": "markdown",
   "id": "1c9601ce-de5a-4803-b860-cee1e6a38591",
   "metadata": {},
   "source": [
    "## 6. Peer Review (individual)\n",
    "\n",
    "1. Go to https://github.com/orgs/ReproTeach/repositories, find other teams' repositories (starting with `w4-in-class-exercise-`)\n",
    "2. Open an issue on their repository (see this [link](https://docs.github.com/en/issues/tracking-your-work-with-issues/creating-an-issue) for creating an issue), make comments:\n",
    "    1. What you like the most about their work (can be anything such as their coding style, the visualization, their data report)\n",
    "    2. Which part(s) you think they can improve (e.g., bugs in their code)\n",
    "    \n",
    "Every student should go to all other teams' repos and open an issue.\n",
    "\n",
    "Finish your group project by the deadline (Thursday 04/27 midnight) and then go to other repos to make the comments (open an issue) by Friday 04/28 midnight."
   ]
  },
  {
   "cell_type": "markdown",
   "id": "2a3d9ffe-567d-413f-9cf3-e7307d55f81a",
   "metadata": {},
   "source": [
    "## Have fun coding!"
   ]
  }
 ],
 "metadata": {
  "kernelspec": {
   "display_name": "Python 3 (ipykernel)",
   "language": "python",
   "name": "python3"
  },
  "language_info": {
   "codemirror_mode": {
    "name": "ipython",
    "version": 3
   },
   "file_extension": ".py",
   "mimetype": "text/x-python",
   "name": "python",
   "nbconvert_exporter": "python",
   "pygments_lexer": "ipython3",
   "version": "3.10.9"
  }
 },
 "nbformat": 4,
 "nbformat_minor": 5
}
